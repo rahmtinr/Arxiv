{
 "cells": [
  {
   "cell_type": "code",
   "execution_count": 40,
   "metadata": {
    "collapsed": true
   },
   "outputs": [],
   "source": [
    "class Macro:\n",
    "    def __init__(self, body):\n",
    "        self.body = body\n",
    "        self.names = []\n",
    "        # from (name, i) to fraction of usage where i is an integer \n",
    "        # that say this score happens in the first i * 0.1 occurences of the body\n",
    "        self.score = dict() \n",
    "         \n",
    "    def to_string(self):\n",
    "        return [self.body, self.names, self.score]\n"
   ]
  },
  {
   "cell_type": "code",
   "execution_count": 43,
   "metadata": {
    "collapsed": false
   },
   "outputs": [],
   "source": [
    "index = 1\n",
    "f = open('/home/rahmtin/Documents/Arxiv-Feynmann/Arxiv/Dominant Name/Name_Evolution.txt')\n",
    "\n",
    "macro = Macro(\"temp\")\n",
    "macros = []\n",
    "for line in f:\n",
    "    line = line.replace(\"\\n\",\"\")\n",
    "    if index % 13 == 1:\n",
    "        macro = Macro(line)\n",
    "    elif index % 13 == 2:\n",
    "        name_list = line.split(\",\")\n",
    "        name_list = map(lambda x : x.strip(), name_list)\n",
    "        name_list = filter(None, name_list)\n",
    "        macro.names = name_list\n",
    "    elif index % 13 > 2:\n",
    "        fraction_list = line.split(\",\")\n",
    "        fraction_list = map(lambda x : x.strip(), fraction_list)\n",
    "        fraction_list = filter(None, fraction_list)\n",
    "        fraction_list = map(lambda x : float(x), fraction_list)\n",
    "        \n",
    "        for name_index, fraction in enumerate(fraction_list):\n",
    "            macro.score[(name_list[name_index], (index % 13) - 2)] = fraction        \n",
    "    else:\n",
    "        macros.append(macro)\n",
    "    index = index + 1\n"
   ]
  },
  {
   "cell_type": "code",
   "execution_count": 70,
   "metadata": {
    "collapsed": false
   },
   "outputs": [],
   "source": [
    "def solve(macro):\n",
    "    start = 5\n",
    "    end = 10\n",
    "    max_name_start = \"rahmtin_temp\"\n",
    "    max_name_end = \"rahmtin_temp\"\n",
    "    for (name, index) in macro.score:\n",
    "        if (index == start and \n",
    "            (max_name_start == \"rahmtin_temp\" or macro.score[(name, index)] > macro.score[(max_name_start, index)])):\n",
    "            max_name_start = name\n",
    "    for (name, index) in macro.score:\n",
    "        if (index == end and \n",
    "            (max_name_end == \"rahmtin_temp\" or macro.score[(name, index)] > macro.score[(max_name_end, index)])):\n",
    "            max_name_end = name\n",
    "    \n",
    "    if max_name_start != max_name_end:\n",
    "        return 1\n",
    "    return 0\n",
    "#        print max_name_start, max_name_end\n",
    "    "
   ]
  },
  {
   "cell_type": "code",
   "execution_count": 71,
   "metadata": {
    "collapsed": false
   },
   "outputs": [
    {
     "name": "stdout",
     "output_type": "stream",
     "text": [
      "748\n"
     ]
    }
   ],
   "source": [
    "count = 0\n",
    "for macro in macros:\n",
    "    count += solve(macro)\n",
    "print count"
   ]
  },
  {
   "cell_type": "code",
   "execution_count": null,
   "metadata": {
    "collapsed": true
   },
   "outputs": [],
   "source": []
  }
 ],
 "metadata": {
  "kernelspec": {
   "display_name": "Python 2",
   "language": "python",
   "name": "python2"
  },
  "language_info": {
   "codemirror_mode": {
    "name": "ipython",
    "version": 2
   },
   "file_extension": ".py",
   "mimetype": "text/x-python",
   "name": "python",
   "nbconvert_exporter": "python",
   "pygments_lexer": "ipython2",
   "version": "2.7.12"
  }
 },
 "nbformat": 4,
 "nbformat_minor": 1
}
