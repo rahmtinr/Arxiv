{
 "cells": [
  {
   "cell_type": "code",
   "execution_count": 2,
   "metadata": {
    "collapsed": true
   },
   "outputs": [],
   "source": [
    "import numpy as np\n",
    "from sklearn import preprocessing\n",
    "import pandas as pd\n",
    "import csv\n",
    "from sklearn.tree import DecisionTreeClassifier\n",
    "from sklearn.metrics import accuracy_score\n",
    "import os "
   ]
  },
  {
   "cell_type": "code",
   "execution_count": 67,
   "metadata": {
    "collapsed": false
   },
   "outputs": [
    {
     "name": "stdout",
     "output_type": "stream",
     "text": [
      "0.594639865997 0.482412060302\n"
     ]
    }
   ],
   "source": [
    "#Decision Tree\n",
    "#Two people get to the same macro name but have different bodies and see who wins the fight\n",
    "df = pd.read_csv('/home/rahmtin/Documents/Arxiv-Feynmann/Arxiv/RawOutput/Body/2_to_1_learning-unique_authorPair_nosmart.txt')\n",
    "df.columns = map(lambda x : x.replace(\" \", \"\") , df.columns)\n",
    "df['is_train'] = np.random.uniform(0, 1, len(df)) <= 0.75\n",
    "train = df[df['is_train'] == True]\n",
    "test = df[df['is_train'] == False]\n",
    "\n",
    "train_features = train.ix[:, df.columns.difference(['Label', 'is_train'])]\n",
    "train_labels = train['Label']\n",
    "test_features = test.ix[:, df.columns.difference(['Label', 'is_train'])]\n",
    "test_labels = test['Label']\n",
    "\n",
    "\n",
    "clf = DecisionTreeClassifier()\n",
    "clf = clf.fit(train_features, train_labels)\n",
    "\n",
    "predictions = clf.predict(test_features)\n",
    "print accuracy_score(test_labels, predictions), (sum(test_labels) - len(test_labels)) / float(len(test_labels))"
   ]
  },
  {
   "cell_type": "code",
   "execution_count": 68,
   "metadata": {
    "collapsed": false
   },
   "outputs": [
    {
     "name": "stdout",
     "output_type": "stream",
     "text": [
      "0.621693121693 0.515873015873\n"
     ]
    }
   ],
   "source": [
    "#Decision Tree\n",
    "#Two people get to the same macro body but have different names and see who wins the fight\n",
    "df = pd.read_csv('/home/rahmtin/Documents/Arxiv-Feynmann/Arxiv/RawOutput/2_to_1_Exactly2Authors/2_to_1_learning-unique_authorPair_nosmart.txt')\n",
    "df.columns = map(lambda x : x.replace(\" \", \"\") , df.columns)\n",
    "df['is_train'] = np.random.uniform(0, 1, len(df)) <= 0.75\n",
    "train = df[df['is_train'] == True]\n",
    "test = df[df['is_train'] == False]\n",
    "\n",
    "train_features = train.ix[:, df.columns.difference(['Label', 'is_train'])]\n",
    "train_labels = train['Label']\n",
    "test_features = test.ix[:, df.columns.difference(['Label', 'is_train'])]\n",
    "test_labels = test['Label']\n",
    "\n",
    "\n",
    "clf = DecisionTreeClassifier()\n",
    "clf = clf.fit(train_features, train_labels)\n",
    "\n",
    "predictions = clf.predict(test_features)\n",
    "print accuracy_score(test_labels, predictions), (sum(test_labels) - len(test_labels)) / float(len(test_labels))"
   ]
  },
  {
   "cell_type": "code",
   "execution_count": 69,
   "metadata": {
    "collapsed": false
   },
   "outputs": [
    {
     "name": "stdout",
     "output_type": "stream",
     "text": [
      " Coefficients:  ['GlobalCurExp1: 0.01096', 'LocalCurExp1: -0.02779', 'LocalFracChange1: -0.02335', 'IsMax1: 0.25843', 'IsMin1: -0.27787', 'IsMostRecent1: -0.45989', 'MacroNameLength1: 0.00000', 'CoAuthorCountUsedMacro1: 0.38541', 'LocalDegree1: -0.60558', 'BetweenCentLocal1: 0.36546', 'GlobalDegree1: 0.33930', 'BetweenCentGlobal1: -0.14186', 'GlobalCurExp2: 0.14186', 'LocalCurExp2: 0.01948', 'LocalFracChange2: -0.01948', 'IsMax2: 0.00000', 'IsMin2: 0.00000', 'IsMostRecent2: -0.15947', 'MacroNameLength2: 0.24765', 'CoAuthorCountUsedMacro2: 0.01263', 'LocalDegree2: -0.14435', 'BetweenCentLocal2: 0.47210', 'GlobalDegree2: -0.51493', 'BetweenCentGlobal2: 0.05401', 'NumberOfDollarSigns: 0.01648', 'NumberOfBackSlashes: -0.04757', 'CurlyBraceMaxDepth: 0.00000', 'MacroBodyLength: 0.00000'] ['-0.06270']\n",
      "Accuracy:  0.656184486373\n",
      "Majority:  0.528301886792\n"
     ]
    }
   ],
   "source": [
    "import sys\n",
    "from sklearn import preprocessing\n",
    "from sklearn.metrics import accuracy_score\n",
    "from sklearn.linear_model import LogisticRegression\n",
    "\n",
    "\n",
    "#Logistic Regression\n",
    "#Two people get to the same macro name but have different bodies and see who wins the fight\n",
    "df = pd.read_csv('/home/rahmtin/Documents/Arxiv-Feynmann/Arxiv/RawOutput/Body/2_to_1_learning-unique_authorPair_nosmart.txt')\n",
    "df.columns = map(lambda x : x.replace(\" \", \"\") , df.columns)\n",
    "labels = df['Label'] - 1\n",
    "header = df.columns + \": \"\n",
    "df = preprocessing.scale(df.ix[:,df.columns.difference(['Label'])])\n",
    "train_features = []\n",
    "train_labels = []\n",
    "test_features = []\n",
    "test_labels = []\n",
    "\n",
    "for index, features in enumerate(df):\n",
    "    my_rand = np.random.uniform(0, 1)\n",
    "    if my_rand <= 0.8:\n",
    "        train_features.append(features)\n",
    "        train_labels.append(labels[index])\n",
    "    else:\n",
    "        test_features.append(features)\n",
    "        test_labels.append(labels[index])\n",
    "\n",
    "logistic = LogisticRegression(C=1e5)\n",
    "logistic.fit(train_features, train_labels)\n",
    "LogisticRegression(C=100000.0, class_weight=None, dual=False,\n",
    "            fit_intercept=True, intercept_scaling=1, max_iter=100,\n",
    "            multi_class='ovr', n_jobs=1, penalty='l2', random_state=None,\n",
    "            solver='liblinear', tol=0.0001, verbose=0, warm_start=False)\n",
    "        \n",
    "predictions = logistic.predict(test_features)\n",
    "five_decimals = [\"%.5f\" % v for v in logistic.coef_[0]]\n",
    "five_decimals_intercept = [\"%.5f\" % logistic.intercept_]\n",
    "print ' Coefficients: ', map(''.join, zip(header, five_decimals)), five_decimals_intercept\n",
    "\n",
    "print \"Accuracy: \",  accuracy_score(test_labels, predictions)\n",
    "print \"Majority: \", max(1 - sum(test_labels) / float(len(test_labels)), sum(test_labels) / float(len(test_labels)))"
   ]
  },
  {
   "cell_type": "code",
   "execution_count": 70,
   "metadata": {
    "collapsed": false
   },
   "outputs": [
    {
     "name": "stdout",
     "output_type": "stream",
     "text": [
      " Coefficients:  ['GlobalCurExp1: 0.02387', 'LocalCurExp1: -0.00872', 'LocalFracChange1: 0.12636', 'IsMax1: -0.00871', 'IsMin1: 0.30258', 'IsMostRecent1: -0.31509', 'MacroNameLength1: -0.00340', 'CoAuthorCountUsedMacro1: 0.33086', 'LocalDegree1: -0.38091', 'BetweenCentLocal1: -0.02420', 'GlobalDegree1: -0.12501', 'BetweenCentGlobal1: -0.11845', 'GlobalCurExp2: 0.11845', 'LocalCurExp2: 0.08603', 'LocalFracChange2: -0.08603', 'IsMax2: 0.00000', 'IsMin2: 0.00000', 'IsMostRecent2: -0.01624', 'MacroNameLength2: -0.04408', 'CoAuthorCountUsedMacro2: -0.08625', 'LocalDegree2: 0.09065', 'BetweenCentLocal2: 0.38008', 'GlobalDegree2: -0.57986', 'BetweenCentGlobal2: 0.12404', 'NumberOfDollarSigns: 0.02383', 'NumberOfBackSlashes: -0.06489', 'CurlyBraceMaxDepth: -0.16819', 'MacroBodyLength: -0.00827'] ['-0.03421']\n",
      "Accuracy:  0.657320872274\n",
      "Majority:  0.510903426791\n"
     ]
    }
   ],
   "source": [
    "import sys\n",
    "from sklearn import preprocessing\n",
    "from sklearn.metrics import accuracy_score\n",
    "from sklearn.linear_model import LogisticRegression\n",
    "\n",
    "\n",
    "#Logistic Regression\n",
    "#Two people get to the same macro body but have different names and see who wins the fight\n",
    "df = pd.read_csv('/home/rahmtin/Documents/Arxiv-Feynmann/Arxiv/RawOutput/2_to_1_Exactly2Authors/2_to_1_learning-unique_authorPair_nosmart.txt')\n",
    "df.columns = map(lambda x : x.replace(\" \", \"\") , df.columns)\n",
    "labels = df['Label'] - 1\n",
    "header = df.columns + \": \"\n",
    "df = preprocessing.scale(df.ix[:,df.columns.difference(['Label'])])\n",
    "train_features = []\n",
    "train_labels = []\n",
    "test_features = []\n",
    "test_labels = []\n",
    "\n",
    "for index, features in enumerate(df):\n",
    "    my_rand = np.random.uniform(0, 1)\n",
    "    if my_rand <= 0.8:\n",
    "        train_features.append(features)\n",
    "        train_labels.append(labels[index])\n",
    "    else:\n",
    "        test_features.append(features)\n",
    "        test_labels.append(labels[index])\n",
    "\n",
    "logistic = LogisticRegression(C=1e5)\n",
    "logistic.fit(train_features, train_labels)\n",
    "LogisticRegression(C=100000.0, class_weight=None, dual=False,\n",
    "            fit_intercept=True, intercept_scaling=1, max_iter=100,\n",
    "            multi_class='ovr', n_jobs=1, penalty='l2', random_state=None,\n",
    "            solver='liblinear', tol=0.0001, verbose=0, warm_start=False)\n",
    "        \n",
    "predictions = logistic.predict(test_features)\n",
    "five_decimals = [\"%.5f\" % v for v in logistic.coef_[0]]\n",
    "five_decimals_intercept = [\"%.5f\" % logistic.intercept_]\n",
    "print ' Coefficients: ', map(''.join, zip(header, five_decimals)), five_decimals_intercept\n",
    "print \"Accuracy: \",  accuracy_score(test_labels, predictions)\n",
    "print \"Majority: \", max(1 - sum(test_labels) / float(len(test_labels)), sum(test_labels) / float(len(test_labels)))"
   ]
  }
 ],
 "metadata": {
  "kernelspec": {
   "display_name": "Python 2",
   "language": "python",
   "name": "python2"
  },
  "language_info": {
   "codemirror_mode": {
    "name": "ipython",
    "version": 2
   },
   "file_extension": ".py",
   "mimetype": "text/x-python",
   "name": "python",
   "nbconvert_exporter": "python",
   "pygments_lexer": "ipython2",
   "version": "2.7.12"
  }
 },
 "nbformat": 4,
 "nbformat_minor": 1
}
